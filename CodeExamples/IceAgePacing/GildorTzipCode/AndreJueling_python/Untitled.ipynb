{
 "cells": [
  {
   "cell_type": "code",
   "execution_count": 4,
   "metadata": {},
   "outputs": [],
   "source": [
    "    qr  = 0.7       # [1]\n",
    "    eq  = 0.622     # [1]\n",
    "    A   = 2.53e11   # [Pa]\n",
    "    B   = 5.42e3    # [K]\n",
    "    Ps  = 1.0e5     # [Pa] \n",
    "    P0  = 0.06      # [Sv]\n",
    "    P1  = 40.       # [Sv Pa^-1]\n",
    "    S0  = 0.15      # [Sv]\n",
    "    SM  = 0.08      # [Sv]\n",
    "    ST  = 0.0015    # [Sv K^-1]\n",
    "    eps = 0.64      # [1]\n",
    "    sgm = 5.67e-8   # [W m^-2 K^-4]\n",
    "    Hs  = 350.      # [W m^-2]\n",
    "    als = 0.65      # [1]\n",
    "    alL = 0.7       # [1]\n",
    "    alC = 0.27      # [1]\n",
    "    rho = 1.0e3     # [kg m^-3]\n",
    "    Vo  = 21.6e15   # [m^3]\n",
    "    Cp  = 3985.     # [J kg^-1 K^-1] \n",
    "    ao  = 2.0e13    # [m^2]\n",
    "    al  = 2.0e13    # [m^2]\n",
    "    a   = ao + al   # [m^2]\n",
    "    lmd = 10.       # [m]\n",
    "    LEW = 4.0e6     # [m]\n",
    "    \n",
    "    Is  = 0.3*ao              # [m^2]\n",
    "    Co  = Cp*Vo*rho # [j K^-1]\n",
    "    \n",
    "    spky = 3600*24*365*1000 # seconds per kiloyear"
   ]
  },
  {
   "cell_type": "code",
   "execution_count": 7,
   "metadata": {},
   "outputs": [
    {
     "data": {
      "text/plain": [
       "6000000000000.0"
      ]
     },
     "execution_count": 7,
     "metadata": {},
     "output_type": "execute_result"
    }
   ],
   "source": [
    "Is"
   ]
  },
  {
   "cell_type": "code",
   "execution_count": null,
   "metadata": {},
   "outputs": [],
   "source": []
  }
 ],
 "metadata": {
  "kernelspec": {
   "display_name": "Python 3",
   "language": "python",
   "name": "python3"
  },
  "language_info": {
   "codemirror_mode": {
    "name": "ipython",
    "version": 3
   },
   "file_extension": ".py",
   "mimetype": "text/x-python",
   "name": "python",
   "nbconvert_exporter": "python",
   "pygments_lexer": "ipython3",
   "version": "3.6.4"
  }
 },
 "nbformat": 4,
 "nbformat_minor": 2
}
